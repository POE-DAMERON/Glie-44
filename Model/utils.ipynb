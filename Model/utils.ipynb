{
  "nbformat": 4,
  "nbformat_minor": 0,
  "metadata": {
    "colab": {
      "name": "utils.ipynb",
      "provenance": [],
      "collapsed_sections": []
    },
    "kernelspec": {
      "name": "python3",
      "display_name": "Python 3"
    },
    "language_info": {
      "name": "python"
    }
  },
  "cells": [
    {
      "cell_type": "code",
      "metadata": {
        "id": "6DlJpTLore_c"
      },
      "source": [
        "class Utils():\n",
        "\n",
        "  @staticmethod\n",
        "  def add_blocks(pred,draw):\n",
        "    boxes = pred['detection_boxes'].numpy()[0]\n",
        "    classes = pred['detection_classes'].numpy()[0]\n",
        "\n",
        "    height, width = image_data.shape[1],image_data.shape[2]\n",
        "    boxes[:, 0] *= height\n",
        "    boxes[:, 1] *= width\n",
        "    boxes[:, 2] *= height\n",
        "    boxes[:, 3] *= width\n",
        "    \n",
        "    for i in range(len(boxes)):\n",
        "      if pred['detection_scores'].numpy()[0][i] > PRECISION:\n",
        "        draw.rectangle(prepare_coords(boxes[i]), outline = which_color(classes[i]), width = 3)\n",
        "        draw.text((boxes[i][1], boxes[i][0]),str(classes[i])[:-2], fill=(255,255,255), stroke_fill= (0,0,0,255), stroke_width = 2, font= ImageFont.truetype(\"Roboto-Regular.ttf\", 20))\n",
        "\n",
        "    @staticmethod\n",
        "    def which_color(class_id):\n",
        "      color_value = int(class_id) * 9\n",
        "      return (min(color_value, 255), max(min(color_value - 255, 255),0),max(min(color_value - 256 * 2 - 1, 255),0))\n",
        "\n",
        "    @staticmethod\n",
        "    def prepare_coords(array):\n",
        "      return (array[1], array[0], array[3], array[2])"
      ],
      "execution_count": null,
      "outputs": []
    }
  ]
}