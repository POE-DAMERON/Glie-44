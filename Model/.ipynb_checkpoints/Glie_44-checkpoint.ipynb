{
 "cells": [
  {
   "cell_type": "code",
   "execution_count": 37,
   "metadata": {},
   "outputs": [],
   "source": [
    "import keras\n",
    "import pandas as pd\n",
    "import matplotlib.pyplot as plt\n",
    "import numpy as np\n",
    "from sklearn import datasets\n",
    "import tensorflow_hub as hub\n",
    "from PIL import Image, ImageDraw, ImageFont\n",
    "from os import path, listdir\n",
    "from pathlib import Path\n",
    "\n",
    "%matplotlib inline"
   ]
  },
  {
   "cell_type": "code",
   "execution_count": 21,
   "metadata": {},
   "outputs": [],
   "source": [
    "class Model():\n",
    "      \n",
    "  def load_model(self):\n",
    "    self.__model = hub.load(\"https://tfhub.dev/tensorflow/ssd_mobilenet_v2/2\")\n",
    "    \n",
    "  def __init__(self):\n",
    "    self.__model = hub.load(\"https://tfhub.dev/tensorflow/ssd_mobilenet_v2/2\")\n",
    "\n",
    "  def pred(self, input_image):\n",
    "    return self.__model(input_image.get_data())"
   ]
  },
  {
   "cell_type": "code",
   "execution_count": 12,
   "metadata": {},
   "outputs": [],
   "source": [
    "class Input_image():\n",
    "\n",
    "  def __init__(self,path):\n",
    "     set_image(np.array([plt.imread(path)]))\n",
    "  \n",
    "  def set_data(self,image):\n",
    "    self.__data = image\n",
    "\n",
    "  def get_data(self):\n",
    "    return self.__data"
   ]
  },
  {
   "cell_type": "code",
   "execution_count": 13,
   "metadata": {},
   "outputs": [],
   "source": [
    "class Utils():\n",
    "\n",
    "  @staticmethod\n",
    "  def add_blocks(pred,draw):\n",
    "    boxes = pred['detection_boxes'].numpy()[0]\n",
    "    classes = pred['detection_classes'].numpy()[0]\n",
    "\n",
    "    height, width = image_data.shape[1],image_data.shape[2]\n",
    "    boxes[:, 0] *= height\n",
    "    boxes[:, 1] *= width\n",
    "    boxes[:, 2] *= height\n",
    "    boxes[:, 3] *= width\n",
    "    \n",
    "    for i in range(len(boxes)):\n",
    "      if pred['detection_scores'].numpy()[0][i] > PRECISION:\n",
    "        draw.rectangle(prepare_coords(boxes[i]), outline = which_color(classes[i]), width = 3)\n",
    "        draw.text((boxes[i][1], boxes[i][0]),str(classes[i])[:-2], fill=(255,255,255), stroke_fill= (0,0,0,255), stroke_width = 2, font= ImageFont.truetype(\"Roboto-Regular.ttf\", 20))\n",
    "\n",
    "    @staticmethod\n",
    "    def which_color(class_id):\n",
    "      color_value = int(class_id) * 9\n",
    "      return (min(color_value, 255), max(min(color_value - 255, 255),0),max(min(color_value - 256 * 2 - 1, 255),0))\n",
    "\n",
    "    @staticmethod\n",
    "    def prepare_coords(array):\n",
    "      return (array[1], array[0], array[3], array[2])"
   ]
  },
  {
   "cell_type": "code",
   "execution_count": 16,
   "metadata": {
    "id": "kBt_pa4bu4Ze"
   },
   "outputs": [],
   "source": [
    "class Glie_44():\n",
    "\n",
    "  def __init__(self, precision = .2):\n",
    "    self.__model = Model()\n",
    "    self.__precision = precision\n",
    "\n",
    "  def run_on_image(self, image_path):\n",
    "    image = Input_image(image_path)\n",
    "    pred = self.__model.pred(image)\n",
    "\n",
    "    draw = ImageDraw.Draw(image)\n",
    "    Utils.add_blocks(draw)\n",
    "\n",
    "    return np.array(image)\n",
    "  \n",
    "  def run_on_folder(self, folder_path = Path().absolute().parents[0].joinpath('Data/VisDrone2019-MOT-train/sequences/uav0000013_00000_v'), output_folder = Path().absolute().parents[0].joinpath('outputs')):\n",
    "    video_frames = sorted(listdir(folder_path))\n",
    "    s = Image.open(folder_path + video_frames[0]).size\n",
    "\n",
    "    output_path = path.basename(folder_path) + '.avi'\n",
    "    fourcc = cv.VideoWriter_fourcc(*'DIVX')\n",
    "    writer = cv.VideoWriter(output_folder.joinpath(output_path), fourcc, 20.0, s)\n",
    "\n",
    "    sample = video_frames\n",
    "    total_frames = len(sample)\n",
    "    for i in range(total_frames):\n",
    "      #print(i + 1, '/', total_frames)\n",
    "      result = run_on_image(folder_path + sample[i])\n",
    "      print(sample[i], ':', result.shape)\n",
    "      writer.write(result)\n",
    "\n",
    "    writer.release()"
   ]
  },
  {
   "cell_type": "code",
   "execution_count": null,
   "metadata": {},
   "outputs": [],
   "source": [
    "model = Glie_44()"
   ]
  },
  {
   "cell_type": "code",
   "execution_count": 36,
   "metadata": {},
   "outputs": [
    {
     "data": {
      "text/plain": [
       "'uav0000013_00000_v'"
      ]
     },
     "execution_count": 36,
     "metadata": {},
     "output_type": "execute_result"
    }
   ],
   "source": [
    "#model.run_on_folder()\n",
    "\n",
    "path.basename(Path().absolute().parents[0].joinpath('Data/VisDrone2019-MOT-train/sequences/uav0000013_00000_v'))"
   ]
  },
  {
   "cell_type": "code",
   "execution_count": null,
   "metadata": {},
   "outputs": [],
   "source": []
  }
 ],
 "metadata": {
  "colab": {
   "collapsed_sections": [],
   "name": "Glie_44.ipynb",
   "provenance": []
  },
  "kernelspec": {
   "display_name": "Python 3",
   "language": "python",
   "name": "python3"
  },
  "language_info": {
   "codemirror_mode": {
    "name": "ipython",
    "version": 3
   },
   "file_extension": ".py",
   "mimetype": "text/x-python",
   "name": "python",
   "nbconvert_exporter": "python",
   "pygments_lexer": "ipython3",
   "version": "3.8.3"
  }
 },
 "nbformat": 4,
 "nbformat_minor": 1
}
