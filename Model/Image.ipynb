{
  "nbformat": 4,
  "nbformat_minor": 0,
  "metadata": {
    "colab": {
      "name": "Image.ipynb",
      "provenance": [],
      "collapsed_sections": []
    },
    "kernelspec": {
      "name": "python3",
      "display_name": "Python 3"
    },
    "language_info": {
      "name": "python"
    }
  },
  "cells": [
    {
      "cell_type": "code",
      "metadata": {
        "id": "eqbmas7ZX75z"
      },
      "source": [
        "import matplotlib.pyplot as plt\n",
        "\n",
        "%matplotlib inline\n",
        "\n",
        "class Input_image():\n",
        "\n",
        "  def __init__(self,path):\n",
        "     set_image(np.array([plt.imread(path)]))\n",
        "  \n",
        "  def set_data(self,image):\n",
        "    self.__data = image\n",
        "\n",
        "  def get_data(self):\n",
        "    return self.__data"
      ],
      "execution_count": null,
      "outputs": []
    }
  ]
}